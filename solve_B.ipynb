{
 "cells": [
  {
   "cell_type": "code",
   "execution_count": 1,
   "id": "cultural-strike",
   "metadata": {},
   "outputs": [],
   "source": [
    "# setting up necessarry library/tools\n",
    "import numpy as np\n",
    "import pandas as pd\n",
    "import matplotlib.pyplot as plt\n",
    "import seaborn as sns\n",
    "sns.set_theme()"
   ]
  },
  {
   "cell_type": "code",
   "execution_count": 2,
   "id": "automotive-african",
   "metadata": {},
   "outputs": [],
   "source": [
    "# opening dataset 'Toqy_User_Activity.csv' file and assign it into 'tua' variable then parsing it\n",
    "tua = pd.read_csv('data/Toqy_User_Activity.csv', sep=';')"
   ]
  },
  {
   "cell_type": "code",
   "execution_count": 3,
   "id": "informative-whale",
   "metadata": {},
   "outputs": [
    {
     "name": "stdout",
     "output_type": "stream",
     "text": [
      "<class 'pandas.core.frame.DataFrame'>\n",
      "RangeIndex: 263436 entries, 0 to 263435\n",
      "Data columns (total 15 columns):\n",
      " #   Column                      Non-Null Count   Dtype  \n",
      "---  ------                      --------------   -----  \n",
      " 0   event_timestamp             263436 non-null  float64\n",
      " 1   event_date                  263436 non-null  int64  \n",
      " 2   event_name                  263436 non-null  object \n",
      " 3   engagement_time_msec        224431 non-null  float64\n",
      " 4   product_id                  131 non-null     object \n",
      " 5   event_value_in_usd          131 non-null     float64\n",
      " 6   user_pseudo_id              263436 non-null  object \n",
      " 7   user_first_touch_timestamp  263433 non-null  float64\n",
      " 8   country                     263389 non-null  object \n",
      " 9   region                      263235 non-null  object \n",
      " 10  city                        187560 non-null  object \n",
      " 11  source                      263436 non-null  object \n",
      " 12  medium                      263436 non-null  object \n",
      " 13  campaign                    63734 non-null   object \n",
      " 14  platform                    263436 non-null  object \n",
      "dtypes: float64(4), int64(1), object(10)\n",
      "memory usage: 30.1+ MB\n"
     ]
    }
   ],
   "source": [
    "# checking info of our dataset\n",
    "tua.info()"
   ]
  },
  {
   "cell_type": "code",
   "execution_count": 4,
   "id": "textile-wedding",
   "metadata": {},
   "outputs": [
    {
     "data": {
      "text/html": [
       "<div>\n",
       "<style scoped>\n",
       "    .dataframe tbody tr th:only-of-type {\n",
       "        vertical-align: middle;\n",
       "    }\n",
       "\n",
       "    .dataframe tbody tr th {\n",
       "        vertical-align: top;\n",
       "    }\n",
       "\n",
       "    .dataframe thead th {\n",
       "        text-align: right;\n",
       "    }\n",
       "</style>\n",
       "<table border=\"1\" class=\"dataframe\">\n",
       "  <thead>\n",
       "    <tr style=\"text-align: right;\">\n",
       "      <th></th>\n",
       "      <th>event_timestamp</th>\n",
       "      <th>event_date</th>\n",
       "      <th>event_name</th>\n",
       "      <th>engagement_time_msec</th>\n",
       "      <th>product_id</th>\n",
       "      <th>event_value_in_usd</th>\n",
       "      <th>user_pseudo_id</th>\n",
       "      <th>user_first_touch_timestamp</th>\n",
       "      <th>country</th>\n",
       "      <th>region</th>\n",
       "      <th>city</th>\n",
       "      <th>source</th>\n",
       "      <th>medium</th>\n",
       "      <th>campaign</th>\n",
       "      <th>platform</th>\n",
       "    </tr>\n",
       "  </thead>\n",
       "  <tbody>\n",
       "    <tr>\n",
       "      <th>0</th>\n",
       "      <td>1.570000e+15</td>\n",
       "      <td>20191101</td>\n",
       "      <td>user_engagement</td>\n",
       "      <td>79048.0</td>\n",
       "      <td>NaN</td>\n",
       "      <td>NaN</td>\n",
       "      <td>de215892cec87549c9d67f93fcb0ca2b</td>\n",
       "      <td>1.560000e+15</td>\n",
       "      <td>Indonesia</td>\n",
       "      <td>East Java</td>\n",
       "      <td>Surabaya</td>\n",
       "      <td>(direct)</td>\n",
       "      <td>(none)</td>\n",
       "      <td>(direct)</td>\n",
       "      <td>ANDROID</td>\n",
       "    </tr>\n",
       "    <tr>\n",
       "      <th>1</th>\n",
       "      <td>1.570000e+15</td>\n",
       "      <td>20191101</td>\n",
       "      <td>user_engagement</td>\n",
       "      <td>161468.0</td>\n",
       "      <td>NaN</td>\n",
       "      <td>NaN</td>\n",
       "      <td>6bea39ae2126a2c0baf52b3293a8a560</td>\n",
       "      <td>1.570000e+15</td>\n",
       "      <td>Indonesia</td>\n",
       "      <td>South Sulawesi</td>\n",
       "      <td>Makassar</td>\n",
       "      <td>google-play</td>\n",
       "      <td>organic</td>\n",
       "      <td>NaN</td>\n",
       "      <td>ANDROID</td>\n",
       "    </tr>\n",
       "    <tr>\n",
       "      <th>2</th>\n",
       "      <td>1.570000e+15</td>\n",
       "      <td>20191101</td>\n",
       "      <td>user_engagement</td>\n",
       "      <td>1263835.0</td>\n",
       "      <td>NaN</td>\n",
       "      <td>NaN</td>\n",
       "      <td>528eafa55de5dedc16434728669a6096</td>\n",
       "      <td>1.570000e+15</td>\n",
       "      <td>Indonesia</td>\n",
       "      <td>West Java</td>\n",
       "      <td>Bandung</td>\n",
       "      <td>google-play</td>\n",
       "      <td>organic</td>\n",
       "      <td>NaN</td>\n",
       "      <td>ANDROID</td>\n",
       "    </tr>\n",
       "    <tr>\n",
       "      <th>3</th>\n",
       "      <td>1.570000e+15</td>\n",
       "      <td>20191101</td>\n",
       "      <td>session_start</td>\n",
       "      <td>NaN</td>\n",
       "      <td>NaN</td>\n",
       "      <td>NaN</td>\n",
       "      <td>14be5bb3483b11db5a5f057d67d09cd3</td>\n",
       "      <td>1.570000e+15</td>\n",
       "      <td>Indonesia</td>\n",
       "      <td>Jakarta</td>\n",
       "      <td>NaN</td>\n",
       "      <td>google-play</td>\n",
       "      <td>organic</td>\n",
       "      <td>NaN</td>\n",
       "      <td>ANDROID</td>\n",
       "    </tr>\n",
       "    <tr>\n",
       "      <th>4</th>\n",
       "      <td>1.570000e+15</td>\n",
       "      <td>20191101</td>\n",
       "      <td>user_engagement</td>\n",
       "      <td>14432.0</td>\n",
       "      <td>NaN</td>\n",
       "      <td>NaN</td>\n",
       "      <td>14be5bb3483b11db5a5f057d67d09cd3</td>\n",
       "      <td>1.570000e+15</td>\n",
       "      <td>Indonesia</td>\n",
       "      <td>Jakarta</td>\n",
       "      <td>NaN</td>\n",
       "      <td>google-play</td>\n",
       "      <td>organic</td>\n",
       "      <td>NaN</td>\n",
       "      <td>ANDROID</td>\n",
       "    </tr>\n",
       "    <tr>\n",
       "      <th>...</th>\n",
       "      <td>...</td>\n",
       "      <td>...</td>\n",
       "      <td>...</td>\n",
       "      <td>...</td>\n",
       "      <td>...</td>\n",
       "      <td>...</td>\n",
       "      <td>...</td>\n",
       "      <td>...</td>\n",
       "      <td>...</td>\n",
       "      <td>...</td>\n",
       "      <td>...</td>\n",
       "      <td>...</td>\n",
       "      <td>...</td>\n",
       "      <td>...</td>\n",
       "      <td>...</td>\n",
       "    </tr>\n",
       "    <tr>\n",
       "      <th>263431</th>\n",
       "      <td>1.570000e+15</td>\n",
       "      <td>20191107</td>\n",
       "      <td>user_engagement</td>\n",
       "      <td>50015.0</td>\n",
       "      <td>NaN</td>\n",
       "      <td>NaN</td>\n",
       "      <td>9d961a4ed47a269452f325d11083f088</td>\n",
       "      <td>1.570000e+15</td>\n",
       "      <td>Indonesia</td>\n",
       "      <td>East Java</td>\n",
       "      <td>Surabaya</td>\n",
       "      <td>google-play</td>\n",
       "      <td>organic</td>\n",
       "      <td>NaN</td>\n",
       "      <td>ANDROID</td>\n",
       "    </tr>\n",
       "    <tr>\n",
       "      <th>263432</th>\n",
       "      <td>1.570000e+15</td>\n",
       "      <td>20191107</td>\n",
       "      <td>user_engagement</td>\n",
       "      <td>25023.0</td>\n",
       "      <td>NaN</td>\n",
       "      <td>NaN</td>\n",
       "      <td>383e8d3edecf34b3466ce4789550aab8</td>\n",
       "      <td>1.570000e+15</td>\n",
       "      <td>Indonesia</td>\n",
       "      <td>Special Region of Yogyakarta</td>\n",
       "      <td>Yogyakarta</td>\n",
       "      <td>(direct)</td>\n",
       "      <td>(none)</td>\n",
       "      <td>(direct)</td>\n",
       "      <td>ANDROID</td>\n",
       "    </tr>\n",
       "    <tr>\n",
       "      <th>263433</th>\n",
       "      <td>1.570000e+15</td>\n",
       "      <td>20191107</td>\n",
       "      <td>user_engagement</td>\n",
       "      <td>6718.0</td>\n",
       "      <td>NaN</td>\n",
       "      <td>NaN</td>\n",
       "      <td>383e8d3edecf34b3466ce4789550aab8</td>\n",
       "      <td>1.570000e+15</td>\n",
       "      <td>Indonesia</td>\n",
       "      <td>Special Region of Yogyakarta</td>\n",
       "      <td>Yogyakarta</td>\n",
       "      <td>(direct)</td>\n",
       "      <td>(none)</td>\n",
       "      <td>(direct)</td>\n",
       "      <td>ANDROID</td>\n",
       "    </tr>\n",
       "    <tr>\n",
       "      <th>263434</th>\n",
       "      <td>1.570000e+15</td>\n",
       "      <td>20191107</td>\n",
       "      <td>user_engagement</td>\n",
       "      <td>33107.0</td>\n",
       "      <td>NaN</td>\n",
       "      <td>NaN</td>\n",
       "      <td>02d1f7d0f5a82b289c1978fa9ee8064e</td>\n",
       "      <td>1.570000e+15</td>\n",
       "      <td>Indonesia</td>\n",
       "      <td>Jakarta</td>\n",
       "      <td>NaN</td>\n",
       "      <td>google-play</td>\n",
       "      <td>organic</td>\n",
       "      <td>NaN</td>\n",
       "      <td>ANDROID</td>\n",
       "    </tr>\n",
       "    <tr>\n",
       "      <th>263435</th>\n",
       "      <td>1.570000e+15</td>\n",
       "      <td>20191107</td>\n",
       "      <td>user_engagement</td>\n",
       "      <td>5021.0</td>\n",
       "      <td>NaN</td>\n",
       "      <td>NaN</td>\n",
       "      <td>02d1f7d0f5a82b289c1978fa9ee8064e</td>\n",
       "      <td>1.570000e+15</td>\n",
       "      <td>Indonesia</td>\n",
       "      <td>Jakarta</td>\n",
       "      <td>NaN</td>\n",
       "      <td>google-play</td>\n",
       "      <td>organic</td>\n",
       "      <td>NaN</td>\n",
       "      <td>ANDROID</td>\n",
       "    </tr>\n",
       "  </tbody>\n",
       "</table>\n",
       "<p>263436 rows × 15 columns</p>\n",
       "</div>"
      ],
      "text/plain": [
       "        event_timestamp  event_date       event_name  engagement_time_msec  \\\n",
       "0          1.570000e+15    20191101  user_engagement               79048.0   \n",
       "1          1.570000e+15    20191101  user_engagement              161468.0   \n",
       "2          1.570000e+15    20191101  user_engagement             1263835.0   \n",
       "3          1.570000e+15    20191101    session_start                   NaN   \n",
       "4          1.570000e+15    20191101  user_engagement               14432.0   \n",
       "...                 ...         ...              ...                   ...   \n",
       "263431     1.570000e+15    20191107  user_engagement               50015.0   \n",
       "263432     1.570000e+15    20191107  user_engagement               25023.0   \n",
       "263433     1.570000e+15    20191107  user_engagement                6718.0   \n",
       "263434     1.570000e+15    20191107  user_engagement               33107.0   \n",
       "263435     1.570000e+15    20191107  user_engagement                5021.0   \n",
       "\n",
       "       product_id  event_value_in_usd                    user_pseudo_id  \\\n",
       "0             NaN                 NaN  de215892cec87549c9d67f93fcb0ca2b   \n",
       "1             NaN                 NaN  6bea39ae2126a2c0baf52b3293a8a560   \n",
       "2             NaN                 NaN  528eafa55de5dedc16434728669a6096   \n",
       "3             NaN                 NaN  14be5bb3483b11db5a5f057d67d09cd3   \n",
       "4             NaN                 NaN  14be5bb3483b11db5a5f057d67d09cd3   \n",
       "...           ...                 ...                               ...   \n",
       "263431        NaN                 NaN  9d961a4ed47a269452f325d11083f088   \n",
       "263432        NaN                 NaN  383e8d3edecf34b3466ce4789550aab8   \n",
       "263433        NaN                 NaN  383e8d3edecf34b3466ce4789550aab8   \n",
       "263434        NaN                 NaN  02d1f7d0f5a82b289c1978fa9ee8064e   \n",
       "263435        NaN                 NaN  02d1f7d0f5a82b289c1978fa9ee8064e   \n",
       "\n",
       "        user_first_touch_timestamp    country                        region  \\\n",
       "0                     1.560000e+15  Indonesia                     East Java   \n",
       "1                     1.570000e+15  Indonesia                South Sulawesi   \n",
       "2                     1.570000e+15  Indonesia                     West Java   \n",
       "3                     1.570000e+15  Indonesia                       Jakarta   \n",
       "4                     1.570000e+15  Indonesia                       Jakarta   \n",
       "...                            ...        ...                           ...   \n",
       "263431                1.570000e+15  Indonesia                     East Java   \n",
       "263432                1.570000e+15  Indonesia  Special Region of Yogyakarta   \n",
       "263433                1.570000e+15  Indonesia  Special Region of Yogyakarta   \n",
       "263434                1.570000e+15  Indonesia                       Jakarta   \n",
       "263435                1.570000e+15  Indonesia                       Jakarta   \n",
       "\n",
       "              city       source   medium  campaign platform  \n",
       "0         Surabaya     (direct)   (none)  (direct)  ANDROID  \n",
       "1         Makassar  google-play  organic       NaN  ANDROID  \n",
       "2          Bandung  google-play  organic       NaN  ANDROID  \n",
       "3              NaN  google-play  organic       NaN  ANDROID  \n",
       "4              NaN  google-play  organic       NaN  ANDROID  \n",
       "...            ...          ...      ...       ...      ...  \n",
       "263431    Surabaya  google-play  organic       NaN  ANDROID  \n",
       "263432  Yogyakarta     (direct)   (none)  (direct)  ANDROID  \n",
       "263433  Yogyakarta     (direct)   (none)  (direct)  ANDROID  \n",
       "263434         NaN  google-play  organic       NaN  ANDROID  \n",
       "263435         NaN  google-play  organic       NaN  ANDROID  \n",
       "\n",
       "[263436 rows x 15 columns]"
      ]
     },
     "execution_count": 4,
     "metadata": {},
     "output_type": "execute_result"
    }
   ],
   "source": [
    "# checking first 5 rows & last 5 rows of our dataset\n",
    "tua"
   ]
  },
  {
   "cell_type": "code",
   "execution_count": 5,
   "id": "framed-satellite",
   "metadata": {},
   "outputs": [],
   "source": [
    "# as we can see above, the 'event_date' column is int datatype. we will convert it to datetime datatype\n",
    "# also from now on we're gonna assume 'engagement_time_msec' is milisecond\n",
    "# and we're going to create a new column named 'engagement_time_sec'. which is basically converting milisecond to second"
   ]
  },
  {
   "cell_type": "code",
   "execution_count": 6,
   "id": "pursuant-preview",
   "metadata": {},
   "outputs": [],
   "source": [
    "# converting 'event_date' to datetime\n",
    "tua['event_date'] = pd.to_datetime(tua['event_date'], format='%Y%m%d')\n",
    "tua['event_date'] = tua['event_date'].dt.date"
   ]
  },
  {
   "cell_type": "code",
   "execution_count": 7,
   "id": "changing-sound",
   "metadata": {},
   "outputs": [],
   "source": [
    "# creating a new column named 'engagement_time_sec' and converting milisecond to second\n",
    "tua['engagement_time_sec'] = (tua['engagement_time_msec']/1000).round(2)"
   ]
  },
  {
   "cell_type": "code",
   "execution_count": 8,
   "id": "dramatic-conversation",
   "metadata": {},
   "outputs": [
    {
     "data": {
      "text/html": [
       "<div>\n",
       "<style scoped>\n",
       "    .dataframe tbody tr th:only-of-type {\n",
       "        vertical-align: middle;\n",
       "    }\n",
       "\n",
       "    .dataframe tbody tr th {\n",
       "        vertical-align: top;\n",
       "    }\n",
       "\n",
       "    .dataframe thead th {\n",
       "        text-align: right;\n",
       "    }\n",
       "</style>\n",
       "<table border=\"1\" class=\"dataframe\">\n",
       "  <thead>\n",
       "    <tr style=\"text-align: right;\">\n",
       "      <th></th>\n",
       "      <th>event_timestamp</th>\n",
       "      <th>event_date</th>\n",
       "      <th>event_name</th>\n",
       "      <th>engagement_time_msec</th>\n",
       "      <th>product_id</th>\n",
       "      <th>event_value_in_usd</th>\n",
       "      <th>user_pseudo_id</th>\n",
       "      <th>user_first_touch_timestamp</th>\n",
       "      <th>country</th>\n",
       "      <th>region</th>\n",
       "      <th>city</th>\n",
       "      <th>source</th>\n",
       "      <th>medium</th>\n",
       "      <th>campaign</th>\n",
       "      <th>platform</th>\n",
       "      <th>engagement_time_sec</th>\n",
       "    </tr>\n",
       "  </thead>\n",
       "  <tbody>\n",
       "    <tr>\n",
       "      <th>0</th>\n",
       "      <td>1.570000e+15</td>\n",
       "      <td>2019-11-01</td>\n",
       "      <td>user_engagement</td>\n",
       "      <td>79048.0</td>\n",
       "      <td>NaN</td>\n",
       "      <td>NaN</td>\n",
       "      <td>de215892cec87549c9d67f93fcb0ca2b</td>\n",
       "      <td>1.560000e+15</td>\n",
       "      <td>Indonesia</td>\n",
       "      <td>East Java</td>\n",
       "      <td>Surabaya</td>\n",
       "      <td>(direct)</td>\n",
       "      <td>(none)</td>\n",
       "      <td>(direct)</td>\n",
       "      <td>ANDROID</td>\n",
       "      <td>79.05</td>\n",
       "    </tr>\n",
       "    <tr>\n",
       "      <th>1</th>\n",
       "      <td>1.570000e+15</td>\n",
       "      <td>2019-11-01</td>\n",
       "      <td>user_engagement</td>\n",
       "      <td>161468.0</td>\n",
       "      <td>NaN</td>\n",
       "      <td>NaN</td>\n",
       "      <td>6bea39ae2126a2c0baf52b3293a8a560</td>\n",
       "      <td>1.570000e+15</td>\n",
       "      <td>Indonesia</td>\n",
       "      <td>South Sulawesi</td>\n",
       "      <td>Makassar</td>\n",
       "      <td>google-play</td>\n",
       "      <td>organic</td>\n",
       "      <td>NaN</td>\n",
       "      <td>ANDROID</td>\n",
       "      <td>161.47</td>\n",
       "    </tr>\n",
       "    <tr>\n",
       "      <th>2</th>\n",
       "      <td>1.570000e+15</td>\n",
       "      <td>2019-11-01</td>\n",
       "      <td>user_engagement</td>\n",
       "      <td>1263835.0</td>\n",
       "      <td>NaN</td>\n",
       "      <td>NaN</td>\n",
       "      <td>528eafa55de5dedc16434728669a6096</td>\n",
       "      <td>1.570000e+15</td>\n",
       "      <td>Indonesia</td>\n",
       "      <td>West Java</td>\n",
       "      <td>Bandung</td>\n",
       "      <td>google-play</td>\n",
       "      <td>organic</td>\n",
       "      <td>NaN</td>\n",
       "      <td>ANDROID</td>\n",
       "      <td>1263.84</td>\n",
       "    </tr>\n",
       "    <tr>\n",
       "      <th>3</th>\n",
       "      <td>1.570000e+15</td>\n",
       "      <td>2019-11-01</td>\n",
       "      <td>session_start</td>\n",
       "      <td>NaN</td>\n",
       "      <td>NaN</td>\n",
       "      <td>NaN</td>\n",
       "      <td>14be5bb3483b11db5a5f057d67d09cd3</td>\n",
       "      <td>1.570000e+15</td>\n",
       "      <td>Indonesia</td>\n",
       "      <td>Jakarta</td>\n",
       "      <td>NaN</td>\n",
       "      <td>google-play</td>\n",
       "      <td>organic</td>\n",
       "      <td>NaN</td>\n",
       "      <td>ANDROID</td>\n",
       "      <td>NaN</td>\n",
       "    </tr>\n",
       "    <tr>\n",
       "      <th>4</th>\n",
       "      <td>1.570000e+15</td>\n",
       "      <td>2019-11-01</td>\n",
       "      <td>user_engagement</td>\n",
       "      <td>14432.0</td>\n",
       "      <td>NaN</td>\n",
       "      <td>NaN</td>\n",
       "      <td>14be5bb3483b11db5a5f057d67d09cd3</td>\n",
       "      <td>1.570000e+15</td>\n",
       "      <td>Indonesia</td>\n",
       "      <td>Jakarta</td>\n",
       "      <td>NaN</td>\n",
       "      <td>google-play</td>\n",
       "      <td>organic</td>\n",
       "      <td>NaN</td>\n",
       "      <td>ANDROID</td>\n",
       "      <td>14.43</td>\n",
       "    </tr>\n",
       "    <tr>\n",
       "      <th>...</th>\n",
       "      <td>...</td>\n",
       "      <td>...</td>\n",
       "      <td>...</td>\n",
       "      <td>...</td>\n",
       "      <td>...</td>\n",
       "      <td>...</td>\n",
       "      <td>...</td>\n",
       "      <td>...</td>\n",
       "      <td>...</td>\n",
       "      <td>...</td>\n",
       "      <td>...</td>\n",
       "      <td>...</td>\n",
       "      <td>...</td>\n",
       "      <td>...</td>\n",
       "      <td>...</td>\n",
       "      <td>...</td>\n",
       "    </tr>\n",
       "    <tr>\n",
       "      <th>263431</th>\n",
       "      <td>1.570000e+15</td>\n",
       "      <td>2019-11-07</td>\n",
       "      <td>user_engagement</td>\n",
       "      <td>50015.0</td>\n",
       "      <td>NaN</td>\n",
       "      <td>NaN</td>\n",
       "      <td>9d961a4ed47a269452f325d11083f088</td>\n",
       "      <td>1.570000e+15</td>\n",
       "      <td>Indonesia</td>\n",
       "      <td>East Java</td>\n",
       "      <td>Surabaya</td>\n",
       "      <td>google-play</td>\n",
       "      <td>organic</td>\n",
       "      <td>NaN</td>\n",
       "      <td>ANDROID</td>\n",
       "      <td>50.02</td>\n",
       "    </tr>\n",
       "    <tr>\n",
       "      <th>263432</th>\n",
       "      <td>1.570000e+15</td>\n",
       "      <td>2019-11-07</td>\n",
       "      <td>user_engagement</td>\n",
       "      <td>25023.0</td>\n",
       "      <td>NaN</td>\n",
       "      <td>NaN</td>\n",
       "      <td>383e8d3edecf34b3466ce4789550aab8</td>\n",
       "      <td>1.570000e+15</td>\n",
       "      <td>Indonesia</td>\n",
       "      <td>Special Region of Yogyakarta</td>\n",
       "      <td>Yogyakarta</td>\n",
       "      <td>(direct)</td>\n",
       "      <td>(none)</td>\n",
       "      <td>(direct)</td>\n",
       "      <td>ANDROID</td>\n",
       "      <td>25.02</td>\n",
       "    </tr>\n",
       "    <tr>\n",
       "      <th>263433</th>\n",
       "      <td>1.570000e+15</td>\n",
       "      <td>2019-11-07</td>\n",
       "      <td>user_engagement</td>\n",
       "      <td>6718.0</td>\n",
       "      <td>NaN</td>\n",
       "      <td>NaN</td>\n",
       "      <td>383e8d3edecf34b3466ce4789550aab8</td>\n",
       "      <td>1.570000e+15</td>\n",
       "      <td>Indonesia</td>\n",
       "      <td>Special Region of Yogyakarta</td>\n",
       "      <td>Yogyakarta</td>\n",
       "      <td>(direct)</td>\n",
       "      <td>(none)</td>\n",
       "      <td>(direct)</td>\n",
       "      <td>ANDROID</td>\n",
       "      <td>6.72</td>\n",
       "    </tr>\n",
       "    <tr>\n",
       "      <th>263434</th>\n",
       "      <td>1.570000e+15</td>\n",
       "      <td>2019-11-07</td>\n",
       "      <td>user_engagement</td>\n",
       "      <td>33107.0</td>\n",
       "      <td>NaN</td>\n",
       "      <td>NaN</td>\n",
       "      <td>02d1f7d0f5a82b289c1978fa9ee8064e</td>\n",
       "      <td>1.570000e+15</td>\n",
       "      <td>Indonesia</td>\n",
       "      <td>Jakarta</td>\n",
       "      <td>NaN</td>\n",
       "      <td>google-play</td>\n",
       "      <td>organic</td>\n",
       "      <td>NaN</td>\n",
       "      <td>ANDROID</td>\n",
       "      <td>33.11</td>\n",
       "    </tr>\n",
       "    <tr>\n",
       "      <th>263435</th>\n",
       "      <td>1.570000e+15</td>\n",
       "      <td>2019-11-07</td>\n",
       "      <td>user_engagement</td>\n",
       "      <td>5021.0</td>\n",
       "      <td>NaN</td>\n",
       "      <td>NaN</td>\n",
       "      <td>02d1f7d0f5a82b289c1978fa9ee8064e</td>\n",
       "      <td>1.570000e+15</td>\n",
       "      <td>Indonesia</td>\n",
       "      <td>Jakarta</td>\n",
       "      <td>NaN</td>\n",
       "      <td>google-play</td>\n",
       "      <td>organic</td>\n",
       "      <td>NaN</td>\n",
       "      <td>ANDROID</td>\n",
       "      <td>5.02</td>\n",
       "    </tr>\n",
       "  </tbody>\n",
       "</table>\n",
       "<p>263436 rows × 16 columns</p>\n",
       "</div>"
      ],
      "text/plain": [
       "        event_timestamp  event_date       event_name  engagement_time_msec  \\\n",
       "0          1.570000e+15  2019-11-01  user_engagement               79048.0   \n",
       "1          1.570000e+15  2019-11-01  user_engagement              161468.0   \n",
       "2          1.570000e+15  2019-11-01  user_engagement             1263835.0   \n",
       "3          1.570000e+15  2019-11-01    session_start                   NaN   \n",
       "4          1.570000e+15  2019-11-01  user_engagement               14432.0   \n",
       "...                 ...         ...              ...                   ...   \n",
       "263431     1.570000e+15  2019-11-07  user_engagement               50015.0   \n",
       "263432     1.570000e+15  2019-11-07  user_engagement               25023.0   \n",
       "263433     1.570000e+15  2019-11-07  user_engagement                6718.0   \n",
       "263434     1.570000e+15  2019-11-07  user_engagement               33107.0   \n",
       "263435     1.570000e+15  2019-11-07  user_engagement                5021.0   \n",
       "\n",
       "       product_id  event_value_in_usd                    user_pseudo_id  \\\n",
       "0             NaN                 NaN  de215892cec87549c9d67f93fcb0ca2b   \n",
       "1             NaN                 NaN  6bea39ae2126a2c0baf52b3293a8a560   \n",
       "2             NaN                 NaN  528eafa55de5dedc16434728669a6096   \n",
       "3             NaN                 NaN  14be5bb3483b11db5a5f057d67d09cd3   \n",
       "4             NaN                 NaN  14be5bb3483b11db5a5f057d67d09cd3   \n",
       "...           ...                 ...                               ...   \n",
       "263431        NaN                 NaN  9d961a4ed47a269452f325d11083f088   \n",
       "263432        NaN                 NaN  383e8d3edecf34b3466ce4789550aab8   \n",
       "263433        NaN                 NaN  383e8d3edecf34b3466ce4789550aab8   \n",
       "263434        NaN                 NaN  02d1f7d0f5a82b289c1978fa9ee8064e   \n",
       "263435        NaN                 NaN  02d1f7d0f5a82b289c1978fa9ee8064e   \n",
       "\n",
       "        user_first_touch_timestamp    country                        region  \\\n",
       "0                     1.560000e+15  Indonesia                     East Java   \n",
       "1                     1.570000e+15  Indonesia                South Sulawesi   \n",
       "2                     1.570000e+15  Indonesia                     West Java   \n",
       "3                     1.570000e+15  Indonesia                       Jakarta   \n",
       "4                     1.570000e+15  Indonesia                       Jakarta   \n",
       "...                            ...        ...                           ...   \n",
       "263431                1.570000e+15  Indonesia                     East Java   \n",
       "263432                1.570000e+15  Indonesia  Special Region of Yogyakarta   \n",
       "263433                1.570000e+15  Indonesia  Special Region of Yogyakarta   \n",
       "263434                1.570000e+15  Indonesia                       Jakarta   \n",
       "263435                1.570000e+15  Indonesia                       Jakarta   \n",
       "\n",
       "              city       source   medium  campaign platform  \\\n",
       "0         Surabaya     (direct)   (none)  (direct)  ANDROID   \n",
       "1         Makassar  google-play  organic       NaN  ANDROID   \n",
       "2          Bandung  google-play  organic       NaN  ANDROID   \n",
       "3              NaN  google-play  organic       NaN  ANDROID   \n",
       "4              NaN  google-play  organic       NaN  ANDROID   \n",
       "...            ...          ...      ...       ...      ...   \n",
       "263431    Surabaya  google-play  organic       NaN  ANDROID   \n",
       "263432  Yogyakarta     (direct)   (none)  (direct)  ANDROID   \n",
       "263433  Yogyakarta     (direct)   (none)  (direct)  ANDROID   \n",
       "263434         NaN  google-play  organic       NaN  ANDROID   \n",
       "263435         NaN  google-play  organic       NaN  ANDROID   \n",
       "\n",
       "        engagement_time_sec  \n",
       "0                     79.05  \n",
       "1                    161.47  \n",
       "2                   1263.84  \n",
       "3                       NaN  \n",
       "4                     14.43  \n",
       "...                     ...  \n",
       "263431                50.02  \n",
       "263432                25.02  \n",
       "263433                 6.72  \n",
       "263434                33.11  \n",
       "263435                 5.02  \n",
       "\n",
       "[263436 rows x 16 columns]"
      ]
     },
     "execution_count": 8,
     "metadata": {},
     "output_type": "execute_result"
    }
   ],
   "source": [
    "# checking our dataset again to see the changes we just commit\n",
    "tua"
   ]
  },
  {
   "cell_type": "code",
   "execution_count": 9,
   "id": "knowing-science",
   "metadata": {},
   "outputs": [
    {
     "data": {
      "text/plain": [
       "Index(['event_timestamp', 'event_date', 'event_name', 'engagement_time_msec',\n",
       "       'product_id', 'event_value_in_usd', 'user_pseudo_id',\n",
       "       'user_first_touch_timestamp', 'country', 'region', 'city', 'source',\n",
       "       'medium', 'campaign', 'platform', 'engagement_time_sec'],\n",
       "      dtype='object')"
      ]
     },
     "execution_count": 9,
     "metadata": {},
     "output_type": "execute_result"
    }
   ],
   "source": [
    "# checking all columns in our dataset\n",
    "tua.columns"
   ]
  },
  {
   "cell_type": "code",
   "execution_count": 10,
   "id": "binary-parker",
   "metadata": {},
   "outputs": [
    {
     "data": {
      "text/plain": [
       "(263436, 16)"
      ]
     },
     "execution_count": 10,
     "metadata": {},
     "output_type": "execute_result"
    }
   ],
   "source": [
    "# checking the shape or how many rows and columns of our dataset\n",
    "# this data consists of 263436 rows and 16 columns, it's not 15 columns because we just create a new column named 'engagement_time_sec'\n",
    "tua.shape"
   ]
  },
  {
   "cell_type": "code",
   "execution_count": 11,
   "id": "japanese-highland",
   "metadata": {},
   "outputs": [
    {
     "name": "stdout",
     "output_type": "stream",
     "text": [
      "9015\n"
     ]
    }
   ],
   "source": [
    "# calculating how many kinds of 'user_pseudo_id' that occurrs in our data\n",
    "# as we can see here, we have 9015 kinds of 'user_pseudo_id' that means we have 9015 active user in 7 days\n",
    "upid = tua['user_pseudo_id'].nunique()\n",
    "print(upid)"
   ]
  },
  {
   "cell_type": "code",
   "execution_count": 12,
   "id": "fitting-consequence",
   "metadata": {},
   "outputs": [
    {
     "data": {
      "text/plain": [
       "event_date\n",
       "2019-11-01    1760\n",
       "2019-11-02    2710\n",
       "2019-11-03    3273\n",
       "2019-11-04    2537\n",
       "2019-11-05    2727\n",
       "2019-11-06    2688\n",
       "2019-11-07    2934\n",
       "Name: user_pseudo_id, dtype: int64"
      ]
     },
     "execution_count": 12,
     "metadata": {},
     "output_type": "execute_result"
    }
   ],
   "source": [
    "# calculating how many active users for each date\n",
    "upided = tua.groupby('event_date')['user_pseudo_id'].nunique()\n",
    "upided"
   ]
  },
  {
   "cell_type": "code",
   "execution_count": 13,
   "id": "single-consolidation",
   "metadata": {},
   "outputs": [
    {
     "data": {
      "text/plain": [
       "<AxesSubplot:xlabel='event_date', ylabel='active user'>"
      ]
     },
     "execution_count": 13,
     "metadata": {},
     "output_type": "execute_result"
    },
    {
     "data": {
      "image/png": "[encoded data removed]",
      "text/plain": [
       "<Figure size 720x432 with 1 Axes>"
      ]
     },
     "metadata": {},
     "output_type": "display_data"
    }
   ],
   "source": [
    "# active users for each date in bar chart\n",
    "plt.figure(figsize=(10,6))\n",
    "upided.plot.bar(ylabel=('active user'))"
   ]
  },
  {
   "cell_type": "code",
   "execution_count": 14,
   "id": "liquid-click",
   "metadata": {},
   "outputs": [
    {
     "data": {
      "text/plain": [
       "count    224431.00\n",
       "mean        187.09\n",
       "std         384.74\n",
       "min           0.00\n",
       "25%          11.96\n",
       "50%          32.33\n",
       "75%         167.60\n",
       "max        7083.59\n",
       "Name: engagement_time_sec, dtype: float64"
      ]
     },
     "execution_count": 14,
     "metadata": {},
     "output_type": "execute_result"
    }
   ],
   "source": [
    "# calculating some basic statistical details of 'engagement_time_sec' column\n",
    "# note: just ignore the last .00 in count\n",
    "# count is how many elements, mean is the average, std is standard deviation or a measure of how spread out numbers are\n",
    "# min is te minimum value, 25% is the first quartile, 50% is the middle value of data or median, 75% is the second quartile\n",
    "# max is the maximum value\n",
    "tua['engagement_time_sec'].describe().round(2)"
   ]
  },
  {
   "cell_type": "code",
   "execution_count": 15,
   "id": "decimal-european",
   "metadata": {},
   "outputs": [
    {
     "data": {
      "text/plain": [
       "event_date\n",
       "2019-11-01    3007332.73\n",
       "2019-11-02    6367128.01\n",
       "2019-11-03    8997924.48\n",
       "2019-11-04    5298817.55\n",
       "2019-11-05    5701419.09\n",
       "2019-11-06    6021589.64\n",
       "2019-11-07    6593850.01\n",
       "Name: engagement_time_sec, dtype: float64"
      ]
     },
     "execution_count": 15,
     "metadata": {},
     "output_type": "execute_result"
    }
   ],
   "source": [
    "# calculating the sum of 'engagement_time_sec' for each date\n",
    "etsed = tua.groupby('event_date')['engagement_time_sec'].sum()\n",
    "etsed"
   ]
  },
  {
   "cell_type": "code",
   "execution_count": 16,
   "id": "hollywood-cartoon",
   "metadata": {},
   "outputs": [
    {
     "data": {
      "text/plain": [
       "<AxesSubplot:xlabel='event_date', ylabel='engagement_time_sec'>"
      ]
     },
     "execution_count": 16,
     "metadata": {},
     "output_type": "execute_result"
    },
    {
     "data": {
      "image/png": "[encoded data removed]",
      "text/plain": [
       "<Figure size 720x432 with 1 Axes>"
      ]
     },
     "metadata": {},
     "output_type": "display_data"
    }
   ],
   "source": [
    "# sum of 'engagement_time_sec' for each date in bar chart\n",
    "plt.figure(figsize=(10,6))\n",
    "etsed.plot.bar(ylabel=('engagement_time_sec'))"
   ]
  },
  {
   "cell_type": "code",
   "execution_count": 17,
   "id": "induced-powder",
   "metadata": {},
   "outputs": [
    {
     "data": {
      "text/plain": [
       "41988061.51"
      ]
     },
     "execution_count": 17,
     "metadata": {},
     "output_type": "execute_result"
    }
   ],
   "source": [
    "# calculating the sum of all 'engagement_time_sec' in 7 days\n",
    "etssum = tua['engagement_time_sec'].sum()\n",
    "etssum"
   ]
  },
  {
   "cell_type": "code",
   "execution_count": 18,
   "id": "interpreted-richmond",
   "metadata": {},
   "outputs": [
    {
     "data": {
      "text/plain": [
       "event_date\n",
       "2019-11-01    1708.711778\n",
       "2019-11-02    2349.493731\n",
       "2019-11-03    2749.136719\n",
       "2019-11-04    2088.615510\n",
       "2019-11-05    2090.729406\n",
       "2019-11-06    2240.174717\n",
       "2019-11-07    2247.392641\n",
       "dtype: float64"
      ]
     },
     "execution_count": 18,
     "metadata": {},
     "output_type": "execute_result"
    }
   ],
   "source": [
    "# calculating the average of how many 'engagement_time_sec' per active user for each date\n",
    "etsed/upided"
   ]
  },
  {
   "cell_type": "code",
   "execution_count": 19,
   "id": "interim-secretary",
   "metadata": {},
   "outputs": [
    {
     "data": {
      "text/plain": [
       "<AxesSubplot:xlabel='event_date', ylabel='engagement_time_sec/active user'>"
      ]
     },
     "execution_count": 19,
     "metadata": {},
     "output_type": "execute_result"
    },
    {
     "data": {
      "image/png": "[encoded data removed]",
      "text/plain": [
       "<Figure size 720x432 with 1 Axes>"
      ]
     },
     "metadata": {},
     "output_type": "display_data"
    }
   ],
   "source": [
    "# the average of how many 'engagement_time_sec' per active user for each date in bar chart\n",
    "plt.figure(figsize=(10,6))\n",
    "(etsed/upided).plot.bar(ylabel=('engagement_time_sec/active user'))"
   ]
  },
  {
   "cell_type": "code",
   "execution_count": 20,
   "id": "measured-temperature",
   "metadata": {},
   "outputs": [
    {
     "data": {
      "text/plain": [
       "4657.58"
      ]
     },
     "execution_count": 20,
     "metadata": {},
     "output_type": "execute_result"
    }
   ],
   "source": [
    "# calculating the average of how many 'engagement_time_sec' per active user in 7 days\n",
    "(etssum/upid).round(2)"
   ]
  },
  {
   "cell_type": "code",
   "execution_count": 21,
   "id": "later-methodology",
   "metadata": {},
   "outputs": [
    {
     "data": {
      "text/plain": [
       "81"
      ]
     },
     "execution_count": 21,
     "metadata": {},
     "output_type": "execute_result"
    }
   ],
   "source": [
    "# calculating how many users become paying user in 7 days\n",
    "temp = tua.groupby('user_pseudo_id')['event_value_in_usd'].count() > 0\n",
    "pu = 0\n",
    "for i in temp:\n",
    "    if i == True:\n",
    "        pu += 1\n",
    "pu"
   ]
  },
  {
   "cell_type": "code",
   "execution_count": 22,
   "id": "lesbian-davis",
   "metadata": {},
   "outputs": [],
   "source": [
    "# as we can see above, the result is 81 out of 9015, which means the conversion rate is 0.9%"
   ]
  },
  {
   "cell_type": "code",
   "execution_count": 23,
   "id": "ancient-suspension",
   "metadata": {},
   "outputs": [
    {
     "data": {
      "text/plain": [
       "event_date\n",
       "2019-11-01     5\n",
       "2019-11-02    20\n",
       "2019-11-03    22\n",
       "2019-11-04    17\n",
       "2019-11-05    28\n",
       "2019-11-06    17\n",
       "2019-11-07    22\n",
       "Name: event_value_in_usd, dtype: int64"
      ]
     },
     "execution_count": 23,
     "metadata": {},
     "output_type": "execute_result"
    }
   ],
   "source": [
    "# calculating transactions frequency for each date\n",
    "tua.groupby('event_date')['event_value_in_usd'].count()"
   ]
  },
  {
   "cell_type": "code",
   "execution_count": 24,
   "id": "major-grave",
   "metadata": {},
   "outputs": [
    {
     "data": {
      "text/plain": [
       "<AxesSubplot:xlabel='event_date', ylabel='transactions frequency'>"
      ]
     },
     "execution_count": 24,
     "metadata": {},
     "output_type": "execute_result"
    },
    {
     "data": {
      "image/png": "[encoded data removed]",
      "text/plain": [
       "<Figure size 720x432 with 1 Axes>"
      ]
     },
     "metadata": {},
     "output_type": "display_data"
    }
   ],
   "source": [
    "# transactions frequency for each date in bar chart\n",
    "plt.figure(figsize=(10,6))\n",
    "tua.groupby('event_date')['event_value_in_usd'].count().plot.bar(ylabel=('transactions frequency'))"
   ]
  },
  {
   "cell_type": "code",
   "execution_count": 25,
   "id": "coupled-navigation",
   "metadata": {},
   "outputs": [
    {
     "data": {
      "text/plain": [
       "count    131.000000\n",
       "mean       3.547844\n",
       "std        1.147724\n",
       "min        2.672984\n",
       "25%        2.705156\n",
       "50%        3.057738\n",
       "75%        3.924114\n",
       "max        8.345597\n",
       "Name: event_value_in_usd, dtype: float64"
      ]
     },
     "execution_count": 25,
     "metadata": {},
     "output_type": "execute_result"
    }
   ],
   "source": [
    "# calculating some basic statistical details of 'event_value_in_usd' column\n",
    "# note: just ignore the last .000000 in count\n",
    "tua['event_value_in_usd'].describe()"
   ]
  },
  {
   "cell_type": "code",
   "execution_count": 26,
   "id": "olympic-privacy",
   "metadata": {},
   "outputs": [
    {
     "data": {
      "text/plain": [
       "event_date\n",
       "2019-11-01    14.648016\n",
       "2019-11-02    64.019722\n",
       "2019-11-03    74.072454\n",
       "2019-11-04    60.721237\n",
       "2019-11-05    96.759726\n",
       "2019-11-06    59.928714\n",
       "2019-11-07    94.617632\n",
       "Name: event_value_in_usd, dtype: float64"
      ]
     },
     "execution_count": 26,
     "metadata": {},
     "output_type": "execute_result"
    }
   ],
   "source": [
    "# calculating the sum of revenue in USD for each date\n",
    "tua.groupby('event_date')['event_value_in_usd'].sum()"
   ]
  },
  {
   "cell_type": "code",
   "execution_count": 27,
   "id": "certain-mozambique",
   "metadata": {},
   "outputs": [
    {
     "data": {
      "text/plain": [
       "<AxesSubplot:xlabel='event_date', ylabel='revenue in USD'>"
      ]
     },
     "execution_count": 27,
     "metadata": {},
     "output_type": "execute_result"
    },
    {
     "data": {
      "image/png": "[encoded data removed]",
      "text/plain": [
       "<Figure size 720x432 with 1 Axes>"
      ]
     },
     "metadata": {},
     "output_type": "display_data"
    }
   ],
   "source": [
    "# sum of revenue for each date in bar chart\n",
    "plt.figure(figsize=(10,6))\n",
    "tua.groupby('event_date')['event_value_in_usd'].sum().plot.bar(ylabel=('revenue in USD'))"
   ]
  },
  {
   "cell_type": "code",
   "execution_count": 28,
   "id": "reported-aruba",
   "metadata": {},
   "outputs": [
    {
     "name": "stdout",
     "output_type": "stream",
     "text": [
      "464.76750100000004\n"
     ]
    }
   ],
   "source": [
    "# calculating the sum of revenue in 7 days\n",
    "usdsum = tua['event_value_in_usd'].sum()\n",
    "print(usdsum)"
   ]
  },
  {
   "cell_type": "code",
   "execution_count": 29,
   "id": "theoretical-clause",
   "metadata": {},
   "outputs": [
    {
     "data": {
      "text/plain": [
       "5.738"
      ]
     },
     "execution_count": 29,
     "metadata": {},
     "output_type": "execute_result"
    }
   ],
   "source": [
    "# calculating average revenue per paying users\n",
    "# 464.76750100000004 / 81\n",
    "(usdsum/pu).round(3)"
   ]
  },
  {
   "cell_type": "code",
   "execution_count": 30,
   "id": "standard-album",
   "metadata": {},
   "outputs": [
    {
     "data": {
      "text/plain": [
       "0.052"
      ]
     },
     "execution_count": 30,
     "metadata": {},
     "output_type": "execute_result"
    }
   ],
   "source": [
    "# calculating average revenue per active user\n",
    "# 464.76750100000004 / 9015\n",
    "(usdsum/upid).round(3)"
   ]
  },
  {
   "cell_type": "code",
   "execution_count": 31,
   "id": "impressive-healing",
   "metadata": {},
   "outputs": [
    {
     "data": {
      "text/html": [
       "<div>\n",
       "<style scoped>\n",
       "    .dataframe tbody tr th:only-of-type {\n",
       "        vertical-align: middle;\n",
       "    }\n",
       "\n",
       "    .dataframe tbody tr th {\n",
       "        vertical-align: top;\n",
       "    }\n",
       "\n",
       "    .dataframe thead th {\n",
       "        text-align: right;\n",
       "    }\n",
       "</style>\n",
       "<table border=\"1\" class=\"dataframe\">\n",
       "  <thead>\n",
       "    <tr style=\"text-align: right;\">\n",
       "      <th></th>\n",
       "      <th>etssum</th>\n",
       "      <th>revenuesum</th>\n",
       "    </tr>\n",
       "    <tr>\n",
       "      <th>date</th>\n",
       "      <th></th>\n",
       "      <th></th>\n",
       "    </tr>\n",
       "  </thead>\n",
       "  <tbody>\n",
       "    <tr>\n",
       "      <th>2019-11-01</th>\n",
       "      <td>3007332.73</td>\n",
       "      <td>14.648016</td>\n",
       "    </tr>\n",
       "    <tr>\n",
       "      <th>2019-11-02</th>\n",
       "      <td>6367128.01</td>\n",
       "      <td>64.019722</td>\n",
       "    </tr>\n",
       "    <tr>\n",
       "      <th>2019-11-03</th>\n",
       "      <td>8997924.48</td>\n",
       "      <td>74.072454</td>\n",
       "    </tr>\n",
       "    <tr>\n",
       "      <th>2019-11-04</th>\n",
       "      <td>5298817.55</td>\n",
       "      <td>60.721237</td>\n",
       "    </tr>\n",
       "    <tr>\n",
       "      <th>2019-11-05</th>\n",
       "      <td>5701419.09</td>\n",
       "      <td>96.759726</td>\n",
       "    </tr>\n",
       "    <tr>\n",
       "      <th>2019-11-06</th>\n",
       "      <td>6021589.64</td>\n",
       "      <td>59.928714</td>\n",
       "    </tr>\n",
       "    <tr>\n",
       "      <th>2019-11-07</th>\n",
       "      <td>6593850.01</td>\n",
       "      <td>94.617632</td>\n",
       "    </tr>\n",
       "  </tbody>\n",
       "</table>\n",
       "</div>"
      ],
      "text/plain": [
       "                etssum  revenuesum\n",
       "date                              \n",
       "2019-11-01  3007332.73   14.648016\n",
       "2019-11-02  6367128.01   64.019722\n",
       "2019-11-03  8997924.48   74.072454\n",
       "2019-11-04  5298817.55   60.721237\n",
       "2019-11-05  5701419.09   96.759726\n",
       "2019-11-06  6021589.64   59.928714\n",
       "2019-11-07  6593850.01   94.617632"
      ]
     },
     "execution_count": 31,
     "metadata": {},
     "output_type": "execute_result"
    }
   ],
   "source": [
    "# creating a new table to prove that total of 'engagement_time_sec' affecting total revenue for each date\n",
    "tempdata = {'date':  ['2019-11-01', '2019-11-02', '2019-11-03', '2019-11-04', '2019-11-05', '2019-11-06', '2019-11-07'],\n",
    "            'etssum':  [3007332.73, 6367128.01, 8997924.48, 5298817.55, 5701419.09, 6021589.64, 6593850.01],\n",
    "            'revenuesum': [14.648016, 64.019722, 74.072454, 60.721237, 96.759726, 59.928714, 94.617632]\n",
    "            }\n",
    "tempdf = pd.DataFrame (tempdata, columns = ['date', 'etssum', 'revenuesum'])\n",
    "tempdf.set_index('date')"
   ]
  },
  {
   "cell_type": "code",
   "execution_count": 32,
   "id": "covered-listening",
   "metadata": {},
   "outputs": [
    {
     "data": {
      "text/html": [
       "<div>\n",
       "<style scoped>\n",
       "    .dataframe tbody tr th:only-of-type {\n",
       "        vertical-align: middle;\n",
       "    }\n",
       "\n",
       "    .dataframe tbody tr th {\n",
       "        vertical-align: top;\n",
       "    }\n",
       "\n",
       "    .dataframe thead th {\n",
       "        text-align: right;\n",
       "    }\n",
       "</style>\n",
       "<table border=\"1\" class=\"dataframe\">\n",
       "  <thead>\n",
       "    <tr style=\"text-align: right;\">\n",
       "      <th></th>\n",
       "      <th>etssum</th>\n",
       "      <th>revenuesum</th>\n",
       "    </tr>\n",
       "  </thead>\n",
       "  <tbody>\n",
       "    <tr>\n",
       "      <th>etssum</th>\n",
       "      <td>1.000000</td>\n",
       "      <td>0.642096</td>\n",
       "    </tr>\n",
       "    <tr>\n",
       "      <th>revenuesum</th>\n",
       "      <td>0.642096</td>\n",
       "      <td>1.000000</td>\n",
       "    </tr>\n",
       "  </tbody>\n",
       "</table>\n",
       "</div>"
      ],
      "text/plain": [
       "              etssum  revenuesum\n",
       "etssum      1.000000    0.642096\n",
       "revenuesum  0.642096    1.000000"
      ]
     },
     "execution_count": 32,
     "metadata": {},
     "output_type": "execute_result"
    }
   ],
   "source": [
    "# checking correlation coefficient between sum of 'engagement_time_sec' and sum of revenue\n",
    "tempdf.corr()"
   ]
  },
  {
   "cell_type": "code",
   "execution_count": 33,
   "id": "unsigned-business",
   "metadata": {},
   "outputs": [],
   "source": [
    "# as we can see above, the result is 0.642096, which is considered moderate positive relationship\n",
    "# that means, the higher the values in 'engagement_time_sec' could make the revenue get higher too"
   ]
  },
  {
   "cell_type": "code",
   "execution_count": 34,
   "id": "assisted-serum",
   "metadata": {},
   "outputs": [
    {
     "data": {
      "text/plain": [
       "<AxesSubplot:xlabel='etssum', ylabel='revenuesum'>"
      ]
     },
     "execution_count": 34,
     "metadata": {},
     "output_type": "execute_result"
    },
    {
     "data": {
      "image/png": "[encoded data removed]",
      "text/plain": [
       "<Figure size 720x432 with 1 Axes>"
      ]
     },
     "metadata": {},
     "output_type": "display_data"
    }
   ],
   "source": [
    "# scatter plot of sum 'engagement_time_sec' and sum revenue for each date\n",
    "# etssum is the sum of 'engagement_time_sec' and revenuesum is the sum of revenue\n",
    "plt.figure(figsize=(10,6))\n",
    "sns.scatterplot(data=tempdf, x='etssum', y='revenuesum', s=500)"
   ]
  },
  {
   "cell_type": "code",
   "execution_count": 35,
   "id": "advance-semester",
   "metadata": {},
   "outputs": [
    {
     "data": {
      "text/plain": [
       "<AxesSubplot:>"
      ]
     },
     "execution_count": 35,
     "metadata": {},
     "output_type": "execute_result"
    },
    {
     "data": {
      "image/png": "[encoded data removed]",
      "text/plain": [
       "<Figure size 720x432 with 1 Axes>"
      ]
     },
     "metadata": {},
     "output_type": "display_data"
    }
   ],
   "source": [
    "# calculating frequency for each kinds of 'product_id' that occurs in our data\n",
    "plt.figure(figsize=(10,6))\n",
    "tua['product_id'].value_counts().plot.bar()"
   ]
  },
  {
   "cell_type": "code",
   "execution_count": 36,
   "id": "smart-transaction",
   "metadata": {},
   "outputs": [
    {
     "data": {
      "text/plain": [
       "event_date  product_id\n",
       "2019-11-01  limit002      2\n",
       "            1stdia000     1\n",
       "            dia008        1\n",
       "            key000        1\n",
       "2019-11-02  1stdia000     5\n",
       "            key000        5\n",
       "            dia008        2\n",
       "            key001        2\n",
       "            wpac005       2\n",
       "            1stdia008     1\n",
       "            dia000        1\n",
       "            mpac0010      1\n",
       "            mpac003       1\n",
       "2019-11-03  key000        7\n",
       "            1stdia000     3\n",
       "            wpac005       3\n",
       "            mpac0010      2\n",
       "            1stdia008     1\n",
       "            1stdia009     1\n",
       "            key001        1\n",
       "            key004        1\n",
       "            limit001      1\n",
       "            limit002      1\n",
       "            mpac003       1\n",
       "2019-11-04  limit001      4\n",
       "            1stdia008     3\n",
       "            key000        2\n",
       "            key001        2\n",
       "            wpac005       2\n",
       "            1stdia000     1\n",
       "            dia000        1\n",
       "            mpac0010      1\n",
       "            mpac003       1\n",
       "2019-11-05  dia008        7\n",
       "            key000        6\n",
       "            1stdia000     5\n",
       "            limit001      5\n",
       "            mpac0010      2\n",
       "            1stdia008     1\n",
       "            key001        1\n",
       "            mpac003       1\n",
       "2019-11-06  dia008        5\n",
       "            limit001      4\n",
       "            key000        3\n",
       "            1stdia008     2\n",
       "            key001        1\n",
       "            limit002      1\n",
       "            mpac0010      1\n",
       "2019-11-07  1stdia000     4\n",
       "            1stdia010     3\n",
       "            key000        3\n",
       "            mpac0010      3\n",
       "            dia008        2\n",
       "            key004        2\n",
       "            limit001      2\n",
       "            1stdia008     1\n",
       "            key001        1\n",
       "            mpac003       1\n",
       "Name: product_id, dtype: int64"
      ]
     },
     "execution_count": 36,
     "metadata": {},
     "output_type": "execute_result"
    }
   ],
   "source": [
    "# calculating frequency for each kinds of 'product_id' for each date\n",
    "tua.groupby('event_date')['product_id'].value_counts()"
   ]
  },
  {
   "cell_type": "code",
   "execution_count": 37,
   "id": "rubber-piece",
   "metadata": {},
   "outputs": [
    {
     "data": {
      "text/plain": [
       "<AxesSubplot:xlabel='region', ylabel='count'>"
      ]
     },
     "execution_count": 37,
     "metadata": {},
     "output_type": "execute_result"
    },
    {
     "data": {
      "image/png": "[encoded data removed]",
      "text/plain": [
       "<Figure size 720x432 with 1 Axes>"
      ]
     },
     "metadata": {},
     "output_type": "display_data"
    }
   ],
   "source": [
    "# checking top 5 'region' that occurs in our data\n",
    "plt.figure(figsize=(10,6))\n",
    "sns.countplot(x='region', data=tua, palette='colorblind', order=tua['region'].value_counts().iloc[:5].index)"
   ]
  },
  {
   "cell_type": "code",
   "execution_count": null,
   "id": "nutritional-fountain",
   "metadata": {},
   "outputs": [],
   "source": []
  }
 ],
 "metadata": {
  "kernelspec": {
   "display_name": "Python 3",
   "language": "python",
   "name": "python3"
  },
  "language_info": {
   "codemirror_mode": {
    "name": "ipython",
    "version": 3
   },
   "file_extension": ".py",
   "mimetype": "text/x-python",
   "name": "python",
   "nbconvert_exporter": "python",
   "pygments_lexer": "ipython3",
   "version": "3.8.7"
  }
 },
 "nbformat": 4,
 "nbformat_minor": 5
}
